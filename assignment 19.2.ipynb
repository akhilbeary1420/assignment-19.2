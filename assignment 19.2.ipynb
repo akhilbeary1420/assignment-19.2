{
 "cells": [
  {
   "cell_type": "code",
   "execution_count": 10,
   "metadata": {},
   "outputs": [
    {
     "name": "stdout",
     "output_type": "stream",
     "text": [
      "48.2\n",
      "35.4\n",
      "69.8\n",
      "   Data  Mean  Deviation  Sq Dev\n",
      "0    51  48.2        2.8    7.84\n",
      "1    45  48.2       -3.2   10.24\n",
      "2    33  48.2      -15.2  231.04\n",
      "3    45  48.2       -3.2   10.24\n",
      "4    67  48.2       18.8  353.44\n",
      "   Data  Mean  Deviation  Sq Dev\n",
      "0    23  35.4      -12.4  153.76\n",
      "1    43  35.4        7.6   57.76\n",
      "2    23  35.4      -12.4  153.76\n",
      "3    43  35.4        7.6   57.76\n",
      "4    45  35.4        9.6   92.16\n",
      "   Data  Mean  Deviation  Sq Dev\n",
      "0    56  69.8      -13.8  190.44\n",
      "1    76  69.8        6.2   38.44\n",
      "2    74  69.8        4.2   17.64\n",
      "3    87  69.8       17.2  295.84\n",
      "4    56  69.8      -13.8  190.44\n"
     ]
    }
   ],
   "source": [
    "import numpy as np\n",
    "import pandas as pd\n",
    "import scipy.stats as stats\n",
    "import scipy as s\n",
    "import matplotlib.pyplot as plt\n",
    "import math\n",
    "\n",
    "\n",
    "Group1=np.array([51, 45, 33, 45, 67])\n",
    "Group2= np.array([23, 43, 23, 43, 45])\n",
    "Group3=np.array([ 56, 76, 74, 87, 56])\n",
    "\n",
    "\n",
    "Group1=np.array([51, 45, 33, 45, 67])\n",
    "Group2= np.array([23, 43, 23, 43, 45])\n",
    "Group3=np.array([ 56, 76, 74, 87, 56])\n",
    "\n",
    "print(Group1.mean())\n",
    "print(Group2.mean())\n",
    "print(Group3.mean())\n",
    "\n",
    "def getdf(value):\n",
    "    Group = pd.DataFrame(value, columns={\"Data\"})\n",
    "    Group['Mean']= Group['Data'].mean() \n",
    "    st =  Group['Data'] - Group['Mean']\n",
    "    Group['Deviation']=st\n",
    "    Group['Sq Dev']=st*st\n",
    "    return Group\n",
    "    \n",
    "\n",
    "Group1 = getdf(Group1)\n",
    "print(Group1.head())\n",
    "Group2 = getdf(Group2)\n",
    "print(Group2.head())\n",
    "Group3 = getdf(Group3)\n",
    "print(Group3.head())"
   ]
  },
  {
   "cell_type": "code",
   "execution_count": null,
   "metadata": {},
   "outputs": [],
   "source": []
  }
 ],
 "metadata": {
  "kernelspec": {
   "display_name": "Python 3",
   "language": "python",
   "name": "python3"
  },
  "language_info": {
   "codemirror_mode": {
    "name": "ipython",
    "version": 3
   },
   "file_extension": ".py",
   "mimetype": "text/x-python",
   "name": "python",
   "nbconvert_exporter": "python",
   "pygments_lexer": "ipython3",
   "version": "3.6.5"
  }
 },
 "nbformat": 4,
 "nbformat_minor": 2
}
